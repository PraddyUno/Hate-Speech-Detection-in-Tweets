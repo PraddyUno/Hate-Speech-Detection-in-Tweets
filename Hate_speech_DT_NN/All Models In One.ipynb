{
 "cells": [
  {
   "cell_type": "code",
   "execution_count": 1,
   "metadata": {},
   "outputs": [],
   "source": [
    "import numpy as np\n",
    "import pandas as pd\n",
    "from time import time\n",
    "import warnings\n",
    "warnings.filterwarnings(\"ignore\")\n",
    "\n",
    "import matplotlib.pyplot as plt\n",
    "from sklearn.feature_extraction.text import TfidfVectorizer\n",
    "from sklearn.model_selection import train_test_split\n",
    "\n",
    "from sklearn.metrics import confusion_matrix, classification_report, f1_score\n",
    "from sklearn.ensemble import RandomForestClassifier, GradientBoostingClassifier"
   ]
  },
  {
   "cell_type": "code",
   "execution_count": 2,
   "metadata": {},
   "outputs": [
    {
     "name": "stderr",
     "output_type": "stream",
     "text": [
      "Using TensorFlow backend.\n"
     ]
    }
   ],
   "source": [
    "import keras\n",
    "\n",
    "from keras.preprocessing.text import Tokenizer\n",
    "from keras.preprocessing.sequence import pad_sequences\n",
    "\n",
    "from keras.utils import to_categorical\n",
    "from keras.callbacks import EarlyStopping\n",
    "\n",
    "from keras.models import Sequential\n",
    "from keras.layers.core import Dropout\n",
    "from keras.layers import Dense, Embedding, Flatten, LSTM, SpatialDropout1D\n",
    "from keras.layers.convolutional import Conv1D, MaxPooling1D\n",
    "\n",
    "from keras.constraints import maxnorm\n",
    "from keras import regularizers"
   ]
  },
  {
   "cell_type": "code",
   "execution_count": 3,
   "metadata": {},
   "outputs": [],
   "source": [
    "import py_plots\n",
    "from py_plots import precisionmeasures as pm"
   ]
  },
  {
   "cell_type": "code",
   "execution_count": 4,
   "metadata": {},
   "outputs": [],
   "source": [
    "df = pd.read_csv('Final_Balanced_Data.csv')\n",
    "data = df.dropna()\n",
    "data.columns = ['labels','tweet','clean_tweet']\n",
    "max_length = max(data.clean_tweet.apply(lambda sentence: len(sentence.split())))\n",
    "class_names = ['Hate','Offensive','Neutral']"
   ]
  },
  {
   "cell_type": "code",
   "execution_count": 5,
   "metadata": {},
   "outputs": [],
   "source": [
    "x_train, x_test, y_train, y_test = train_test_split(data.clean_tweet, data.labels, test_size=0.33, random_state=42)\n",
    "y_test_cat = to_categorical(y_test)"
   ]
  },
  {
   "cell_type": "code",
   "execution_count": 6,
   "metadata": {},
   "outputs": [],
   "source": [
    "x_train = x_train.reset_index(drop = True)"
   ]
  },
  {
   "cell_type": "code",
   "execution_count": 7,
   "metadata": {},
   "outputs": [],
   "source": [
    "vectorizer = TfidfVectorizer(analyzer = 'word')\n",
    "X_train_tfidf= vectorizer.fit_transform(x_train)\n",
    "X_test_tfidf = vectorizer.transform(x_test)\n",
    "y_train_tfidf = y_train\n",
    "y_test_tfidf = y_test"
   ]
  },
  {
   "cell_type": "code",
   "execution_count": 8,
   "metadata": {},
   "outputs": [],
   "source": [
    "X_train, x_test, Y_train, y_test = train_test_split(data.clean_tweet, data.labels, test_size=0.33, random_state=42)\n",
    "x_train, x_val, y_train, y_val = train_test_split(X_train, Y_train, test_size=0.33, random_state=42)\n",
    "\n",
    "y_train_onehot = to_categorical(y_train)\n",
    "y_val_onehot = to_categorical(y_val)\n",
    "y_test_onehot = to_categorical(y_test)"
   ]
  },
  {
   "cell_type": "code",
   "execution_count": 9,
   "metadata": {},
   "outputs": [
    {
     "name": "stdout",
     "output_type": "stream",
     "text": [
      "Total vocab size: 18602\n"
     ]
    }
   ],
   "source": [
    "tokenizer = Tokenizer()\n",
    "tokenizer.fit_on_texts(x_train.append(x_val))\n",
    "vocab_size = len(tokenizer.word_index)+1\n",
    "print('Total vocab size: {}'.format(vocab_size))"
   ]
  },
  {
   "cell_type": "code",
   "execution_count": 10,
   "metadata": {},
   "outputs": [],
   "source": [
    "sequence_train = tokenizer.texts_to_sequences(x_train)\n",
    "padded_train = pad_sequences(sequence_train, maxlen=max_length, padding='post') \n",
    "\n",
    "sequence_val = tokenizer.texts_to_sequences(x_val)\n",
    "padded_val = pad_sequences(sequence_val, maxlen=max_length, padding='post') \n",
    "\n",
    "sequence_test = tokenizer.texts_to_sequences(x_test)\n",
    "padded_test = pad_sequences(sequence_test, maxlen=max_length, padding='post') "
   ]
  },
  {
   "cell_type": "code",
   "execution_count": 11,
   "metadata": {},
   "outputs": [],
   "source": [
    "embedding_matrix = pd.read_pickle(\"GloVe_matrix.pkl\").values"
   ]
  },
  {
   "cell_type": "code",
   "execution_count": null,
   "metadata": {},
   "outputs": [],
   "source": []
  },
  {
   "cell_type": "code",
   "execution_count": 12,
   "metadata": {},
   "outputs": [],
   "source": [
    "def get_model(model_name = 'Hybrid (CNN + LSTM)'):\n",
    "    if model_name is 'Multilayer Perceptron':\n",
    "        model = get_MLP()\n",
    "    elif model_name is 'Convolution Neural Network':\n",
    "        model = get_CNN()\n",
    "    elif model_name is 'Long-Short Term Memory Network':\n",
    "        model = get_LSTM()\n",
    "    else:\n",
    "        model = get_hybrid()\n",
    "    return model"
   ]
  },
  {
   "cell_type": "code",
   "execution_count": 13,
   "metadata": {},
   "outputs": [],
   "source": [
    "def get_MLP(embed_dim=300):\n",
    "    model = Sequential()\n",
    "    model.add(Embedding(vocab_size, embed_dim, weights=[embedding_matrix], input_length=max_length, trainable=True))\n",
    "    model.add(layers.Flatten())\n",
    "    model.add(layers.Dense(128, activation='relu',\n",
    "                           kernel_regularizer=regularizers.l2(0.001),\n",
    "                           kernel_constraint=maxnorm(3)))\n",
    "    model.add(Dropout(0.5))\n",
    "    model.add(layers.Dense(64,activation='relu',\n",
    "                           kernel_regularizer=regularizers.l2(0.001),\n",
    "                           kernel_constraint=maxnorm(3)))\n",
    "    model.add(layers.Dense(16,activation='relu',\n",
    "                           kernel_regularizer=regularizers.l2(0.001),\n",
    "                           kernel_constraint=maxnorm(3)))\n",
    "    model.add(layers.Dense(3, activation='softmax'))\n",
    "    model.compile(optimizer='adam',loss='categorical_crossentropy',metrics=['acc'])\n",
    "    return model\n",
    "\n"
   ]
  },
  {
   "cell_type": "code",
   "execution_count": 14,
   "metadata": {},
   "outputs": [],
   "source": [
    "def get_CNN(embed_dim=300):\n",
    "    model = Sequential()\n",
    "    model.add(Embedding(vocab_size, embed_dim, weights=[embedding_matrix], input_length=max_length, trainable=True) ) \n",
    "\n",
    "    model.add(Conv1D(filters=128, kernel_size=4, activation='relu',kernel_regularizer=regularizers.l2(0.0))) \n",
    "    model.add(MaxPooling1D(pool_size=2))\n",
    "    model.add(Dropout(0.5))\n",
    "\n",
    "    model.add(Conv1D(filters=64, kernel_size=4, activation='relu',kernel_regularizer=regularizers.l2(0.0)))  \n",
    "    model.add(MaxPooling1D(pool_size=2))\n",
    "\n",
    "\n",
    "    model.add(Conv1D(filters=32, kernel_size=4, activation='relu',kernel_regularizer=regularizers.l2(0.0)))  \n",
    "    model.add(MaxPooling1D(pool_size=2))\n",
    "\n",
    "    model.add(Flatten())\n",
    "    model.add(Dense(10, activation='relu'))\n",
    "    model.add(Dense(3, activation='softmax'))\n",
    "    # compile the model\n",
    "    model.compile(optimizer='adam', loss='categorical_crossentropy', metrics=['acc'])\n",
    "    return model"
   ]
  },
  {
   "cell_type": "code",
   "execution_count": 15,
   "metadata": {},
   "outputs": [],
   "source": [
    "def get_LSTM(embed_dim=300):\n",
    "    model = Sequential()\n",
    "    model.add(Embedding(vocab_size, embed_dim, weights=[embedding_matrix], input_length=max_length, trainable=True) )\n",
    "    model.add(SpatialDropout1D(0.4))\n",
    "    model.add(LSTM(300, dropout=0.4, recurrent_dropout=0.4, return_sequences=True))\n",
    "    model.add(LSTM(100, return_sequences=True))\n",
    "    model.add(Flatten())\n",
    "    model.add(Dense(10, activation='relu'))\n",
    "    model.add(Dense(3, activation='softmax'))\n",
    "    model.compile(loss = 'categorical_crossentropy', optimizer='adam',metrics = ['accuracy'])\n",
    "    return model"
   ]
  },
  {
   "cell_type": "code",
   "execution_count": 16,
   "metadata": {},
   "outputs": [],
   "source": [
    "def get_hybrid(embed_dim=300):\n",
    "    model = Sequential()\n",
    "    model.add(Embedding(vocab_size, embed_dim, weights=[embedding_matrix], input_length=max_length, trainable=True) )\n",
    "\n",
    "    model.add(Conv1D(filters=256, kernel_size=4, activation='relu')) \n",
    "    model.add(MaxPooling1D(pool_size=2))\n",
    "\n",
    "    model.add(SpatialDropout1D(0.4))\n",
    "    model.add(LSTM(256, dropout=0.4, recurrent_dropout=0.4, return_sequences=True))\n",
    "\n",
    "    model.add(Flatten())\n",
    "    model.add(Dense(10, activation='relu'))\n",
    "    model.add(Dense(3, activation='softmax'))\n",
    "\n",
    "    model.compile(loss = 'categorical_crossentropy', optimizer='adam',metrics = ['accuracy'])\n",
    "    \n",
    "    return model"
   ]
  },
  {
   "cell_type": "code",
   "execution_count": 17,
   "metadata": {},
   "outputs": [],
   "source": [
    "def fit_time_score(clf_name):\n",
    "    model = get_model(clf_name)\n",
    "    es = EarlyStopping(monitor='val_loss',patience=2)\n",
    "    t0 = time()\n",
    "    history = model.fit(padded_train,y_train_onehot,epochs=20,batch_size=128,\n",
    "                    validation_data=(padded_val, y_val_onehot),\n",
    "                    callbacks=[es], verbose = 0)\n",
    "    train_time = time() - t0\n",
    "    print(\"train time: %0.3fs\" % train_time)\n",
    "\n",
    "    t0 = time()\n",
    "    pred = model.predict(padded_test)\n",
    "    test_time = time() - t0\n",
    "    print(\"test time:  %0.3fs\" % test_time)\n",
    "\n",
    "    y_pred = np.argmax(pred,axis=1)\n",
    "    y_pred_onehot = to_categorical(y_pred)\n",
    "\n",
    "    score = f1_score(y_test,y_pred, average=\"macro\")\n",
    "    print(\"F1-Score:   %0.3f\" % score)\n",
    "    \n",
    "    print(\"classification report:\")\n",
    "    print(classification_report(y_test_onehot, y_pred_onehot,\n",
    "                                            target_names=class_names))\n",
    "\n",
    "    print(\"confusion matrix:\")\n",
    "    print(confusion_matrix(y_test, y_pred))\n",
    "    \n",
    "    return clf_name, score, train_time, test_time"
   ]
  },
  {
   "cell_type": "code",
   "execution_count": 18,
   "metadata": {
    "scrolled": false
   },
   "outputs": [
    {
     "name": "stdout",
     "output_type": "stream",
     "text": [
      "================================================================================\n",
      "Random forest\n",
      "________________________________________________________________________________\n",
      "Training: \n",
      "train time: 48.092s\n",
      "test time:  1.084s\n",
      "F1-Score:   0.821\n",
      "classification report:\n",
      "              precision    recall  f1-score   support\n",
      "\n",
      "        Hate       0.85      0.69      0.76      2200\n",
      "   Offensive       0.84      0.91      0.88      2174\n",
      "     Neutral       0.79      0.88      0.83      2144\n",
      "\n",
      "    accuracy                           0.82      6518\n",
      "   macro avg       0.83      0.82      0.82      6518\n",
      "weighted avg       0.83      0.82      0.82      6518\n",
      "\n",
      "confusion matrix:\n",
      "[[1512  268  420]\n",
      " [ 103 1978   93]\n",
      " [ 166   97 1881]]\n",
      "\n",
      "================================================================================\n",
      "Gradient Boosting\n",
      "________________________________________________________________________________\n",
      "Training: \n",
      "train time: 168.682s\n",
      "test time:  0.346s\n",
      "F1-Score:   0.840\n",
      "classification report:\n",
      "              precision    recall  f1-score   support\n",
      "\n",
      "        Hate       0.86      0.70      0.77      2200\n",
      "   Offensive       0.90      0.89      0.90      2174\n",
      "     Neutral       0.78      0.93      0.85      2144\n",
      "\n",
      "    accuracy                           0.84      6518\n",
      "   macro avg       0.85      0.84      0.84      6518\n",
      "weighted avg       0.85      0.84      0.84      6518\n",
      "\n",
      "confusion matrix:\n",
      "[[1547  183  470]\n",
      " [ 141 1938   95]\n",
      " [ 111   31 2002]]\n",
      "\n",
      "================================================================================\n",
      "Multilayer Perceptron\n",
      "________________________________________________________________________________\n",
      "WARNING:tensorflow:From /Users/pardeepkumar/anaconda3/lib/python3.7/site-packages/tensorflow/python/framework/op_def_library.py:263: colocate_with (from tensorflow.python.framework.ops) is deprecated and will be removed in a future version.\n",
      "Instructions for updating:\n",
      "Colocations handled automatically by placer.\n",
      "WARNING:tensorflow:From /Users/pardeepkumar/anaconda3/lib/python3.7/site-packages/keras/backend/tensorflow_backend.py:3445: calling dropout (from tensorflow.python.ops.nn_ops) with keep_prob is deprecated and will be removed in a future version.\n",
      "Instructions for updating:\n",
      "Please use `rate` instead of `keep_prob`. Rate should be set to `rate = 1 - keep_prob`.\n",
      "WARNING:tensorflow:From /Users/pardeepkumar/anaconda3/lib/python3.7/site-packages/tensorflow/python/ops/math_ops.py:3066: to_int32 (from tensorflow.python.ops.math_ops) is deprecated and will be removed in a future version.\n",
      "Instructions for updating:\n",
      "Use tf.cast instead.\n",
      "train time: 86.489s\n",
      "test time:  2.633s\n",
      "F1-Score:   0.852\n",
      "classification report:\n",
      "              precision    recall  f1-score   support\n",
      "\n",
      "        Hate       0.80      0.81      0.80      2200\n",
      "   Offensive       0.91      0.87      0.89      2174\n",
      "     Neutral       0.86      0.87      0.86      2144\n",
      "\n",
      "   micro avg       0.85      0.85      0.85      6518\n",
      "   macro avg       0.85      0.85      0.85      6518\n",
      "weighted avg       0.85      0.85      0.85      6518\n",
      " samples avg       0.85      0.85      0.85      6518\n",
      "\n",
      "confusion matrix:\n",
      "[[1790  159  251]\n",
      " [ 222 1889   63]\n",
      " [ 237   39 1868]]\n",
      "================================================================================\n",
      "Convolution Neural Network\n",
      "________________________________________________________________________________\n",
      "train time: 86.776s\n",
      "test time:  2.656s\n",
      "F1-Score:   0.854\n",
      "classification report:\n",
      "              precision    recall  f1-score   support\n",
      "\n",
      "        Hate       0.83      0.79      0.81      2200\n",
      "   Offensive       0.87      0.91      0.89      2174\n",
      "     Neutral       0.87      0.86      0.87      2144\n",
      "\n",
      "   micro avg       0.85      0.85      0.85      6518\n",
      "   macro avg       0.85      0.86      0.85      6518\n",
      "weighted avg       0.85      0.85      0.85      6518\n",
      " samples avg       0.85      0.85      0.85      6518\n",
      "\n",
      "confusion matrix:\n",
      "[[1732  243  225]\n",
      " [ 126 1988   60]\n",
      " [ 235   57 1852]]\n",
      "================================================================================\n",
      "Long-Short Term Memory Network\n",
      "________________________________________________________________________________\n",
      "train time: 86.982s\n",
      "test time:  2.753s\n",
      "F1-Score:   0.855\n",
      "classification report:\n",
      "              precision    recall  f1-score   support\n",
      "\n",
      "        Hate       0.84      0.78      0.81      2200\n",
      "   Offensive       0.89      0.89      0.89      2174\n",
      "     Neutral       0.84      0.90      0.87      2144\n",
      "\n",
      "   micro avg       0.86      0.86      0.86      6518\n",
      "   macro avg       0.86      0.86      0.85      6518\n",
      "weighted avg       0.86      0.86      0.85      6518\n",
      " samples avg       0.86      0.86      0.86      6518\n",
      "\n",
      "confusion matrix:\n",
      "[[1710  184  306]\n",
      " [ 167 1937   70]\n",
      " [ 169   47 1928]]\n",
      "================================================================================\n",
      "Hybrid (CNN + LSTM)\n",
      "________________________________________________________________________________\n",
      "train time: 87.512s\n",
      "test time:  2.801s\n",
      "F1-Score:   0.850\n",
      "classification report:\n",
      "              precision    recall  f1-score   support\n",
      "\n",
      "        Hate       0.84      0.76      0.80      2200\n",
      "   Offensive       0.89      0.89      0.89      2174\n",
      "     Neutral       0.82      0.90      0.86      2144\n",
      "\n",
      "   micro avg       0.85      0.85      0.85      6518\n",
      "   macro avg       0.85      0.85      0.85      6518\n",
      "weighted avg       0.85      0.85      0.85      6518\n",
      " samples avg       0.85      0.85      0.85      6518\n",
      "\n",
      "confusion matrix:\n",
      "[[1675  196  329]\n",
      " [ 155 1930   89]\n",
      " [ 173   33 1938]]\n"
     ]
    }
   ],
   "source": [
    "# Benchmark classifiers\n",
    "def benchmark(clf, name):\n",
    "    print('_' * 80)\n",
    "    print(\"Training: \")\n",
    "    t0 = time()\n",
    "    clf.fit(X_train_tfidf, y_train_tfidf)\n",
    "    train_time = time() - t0\n",
    "    print(\"train time: %0.3fs\" % train_time)\n",
    "\n",
    "    t0 = time()\n",
    "    pred = clf.predict(X_test_tfidf)\n",
    "    test_time = time() - t0\n",
    "    print(\"test time:  %0.3fs\" % test_time)\n",
    "\n",
    "    #score = accuracy_score(y_test, pred)\n",
    "    score = f1_score(y_test,pred, average=\"macro\")\n",
    "    print(\"F1-Score:   %0.3f\" % score)\n",
    "    print(\"classification report:\")\n",
    "    print(classification_report(y_test, pred,\n",
    "                                            target_names=class_names))\n",
    "\n",
    "    print(\"confusion matrix:\")\n",
    "    print(confusion_matrix(y_test, pred))\n",
    "\n",
    "    print()\n",
    "    clf_descr = str(clf).split('(')[0]\n",
    "    return clf_descr, score, train_time, test_time\n",
    "\n",
    "\n",
    "Results = []\n",
    "for clf, name in (\n",
    "    (RandomForestClassifier(n_estimators=500, bootstrap=False, max_depth = 100), \"Random forest\"),\n",
    "    (GradientBoostingClassifier(n_estimators=800, max_depth = 5),'Gradient Boosting')):\n",
    "    \n",
    "    print('=' * 80)\n",
    "    print(name)\n",
    "    Results.append(benchmark(clf, name))\n",
    "\n",
    "NN_names = ['Multilayer Perceptron','Convolution Neural Network',\n",
    "            'Long-Short Term Memory Network','Hybrid (CNN + LSTM)']\n",
    "for nn in NN_names:\n",
    "    print('=' * 80)\n",
    "    print(nn)\n",
    "    print('_' * 80)\n",
    "    Results.append(fit_time_score(nn))\n"
   ]
  },
  {
   "cell_type": "code",
   "execution_count": 19,
   "metadata": {},
   "outputs": [
    {
     "data": {
      "image/png": "[encoded data removed]",
      "text/plain": [
       "<Figure size 1080x576 with 1 Axes>"
      ]
     },
     "metadata": {
      "needs_background": "light"
     },
     "output_type": "display_data"
    }
   ],
   "source": [
    "# make some plots\n",
    "indices = np.arange(len(Results))\n",
    "\n",
    "results = [[x[i] for x in Results] for i in range(4)]\n",
    "\n",
    "clf_names, score, training_time, test_time = results\n",
    "training_time = np.array(training_time) / np.max(training_time)\n",
    "test_time = np.array(test_time) / np.max(test_time)\n",
    "\n",
    "plt.figure(figsize=(15, 8))\n",
    "plt.title(\"Score\")\n",
    "plt.barh(indices, score, .2, label=\"score\", color='steelblue')\n",
    "plt.barh(indices + .3, training_time, .2, label=\"training time\",\n",
    "         color='r')\n",
    "plt.barh(indices + .6, test_time, .2, label=\"test time\", color='green')\n",
    "plt.yticks(())\n",
    "plt.legend(loc='best', fontsize = '12')\n",
    "plt.subplots_adjust(left=.25)\n",
    "plt.subplots_adjust(top=.95)\n",
    "plt.subplots_adjust(bottom=.05)\n",
    "\n",
    "clf_names = ['    Random Forest Classifier',\n",
    "             'Gradient Boosting Classifier',\n",
    "            '          Multilayer Perceptron',\n",
    "             'Convolution Neural Network',\n",
    "            '   Recurrent Neural Network\\n   (LSTM)',\n",
    "             '        Hybrid Neural Network \\n        (Covnets+LSTM)']\n",
    "for i, c in zip(indices, clf_names):\n",
    "    plt.text(-.26, i, c)\n",
    "plt.grid()\n",
    "plt.show()"
   ]
  },
  {
   "cell_type": "code",
   "execution_count": null,
   "metadata": {},
   "outputs": [],
   "source": []
  },
  {
   "cell_type": "code",
   "execution_count": null,
   "metadata": {},
   "outputs": [],
   "source": []
  }
 ],
 "metadata": {
  "kernelspec": {
   "display_name": "Python 3",
   "language": "python",
   "name": "python3"
  },
  "language_info": {
   "codemirror_mode": {
    "name": "ipython",
    "version": 3
   },
   "file_extension": ".py",
   "mimetype": "text/x-python",
   "name": "python",
   "nbconvert_exporter": "python",
   "pygments_lexer": "ipython3",
   "version": "3.7.1"
  }
 },
 "nbformat": 4,
 "nbformat_minor": 2
}

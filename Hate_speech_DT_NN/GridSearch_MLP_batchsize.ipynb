{
 "cells": [
  {
   "cell_type": "markdown",
   "metadata": {},
   "source": [
    "# Code Content\n",
    "\n"
   ]
  },
  {
   "cell_type": "code",
   "execution_count": 1,
   "metadata": {},
   "outputs": [],
   "source": [
    "# Import base libraries for mathematical operations, dataframes, time and plotting\n",
    "import numpy as np\n",
    "import pandas as pd\n",
    "from time import time\n",
    "import matplotlib.pyplot as plt\n",
    "import seaborn as sns\n",
    "font = {'family' : 'sans-serif',\n",
    "        'style' : 'normal',\n",
    "        'size'   : 15}\n",
    "plt.rc('font', **font)\n",
    "plt.rcParams['figure.figsize'] = 12, 8\n",
    "\n",
    "import warnings\n",
    "warnings.filterwarnings(\"ignore\")"
   ]
  },
  {
   "cell_type": "code",
   "execution_count": 2,
   "metadata": {},
   "outputs": [
    {
     "name": "stderr",
     "output_type": "stream",
     "text": [
      "Using TensorFlow backend.\n"
     ]
    }
   ],
   "source": [
    "from sklearn.model_selection import train_test_split\n",
    "from sklearn.model_selection import GridSearchCV\n",
    "from sklearn.metrics import precision_recall_fscore_support as prfs\n",
    "\n",
    "from keras.wrappers.scikit_learn import KerasClassifier\n",
    "import keras\n",
    "from keras.utils import to_categorical\n",
    "from keras import regularizers\n",
    "from keras.constraints import maxnorm\n",
    "\n",
    "from keras.preprocessing.text import Tokenizer\n",
    "from keras.preprocessing.sequence import pad_sequences\n",
    "\n",
    "\n",
    "from keras.models import Sequential\n",
    "from keras.layers import Dense, Embedding, Flatten, LeakyReLU\n",
    "from keras.callbacks import EarlyStopping\n",
    "\n",
    "from keras.layers.core import Dropout\n",
    "\n",
    "from joblib import dump, load"
   ]
  },
  {
   "cell_type": "code",
   "execution_count": 3,
   "metadata": {},
   "outputs": [],
   "source": [
    "import py_plots\n",
    "from py_plots import precisionmeasures as pm"
   ]
  },
  {
   "cell_type": "code",
   "execution_count": 4,
   "metadata": {},
   "outputs": [
    {
     "data": {
      "text/html": [
       "<style type=\"text/css\">\n",
       "table.dataframe td, table.dataframe th {\n",
       "    border: 1px  black solid !important;\n",
       "  color: black !important;\n",
       "}\n",
       "</style>"
      ],
      "text/plain": [
       "<IPython.core.display.HTML object>"
      ]
     },
     "metadata": {},
     "output_type": "display_data"
    }
   ],
   "source": [
    "%%HTML\n",
    "<style type=\"text/css\">\n",
    "table.dataframe td, table.dataframe th {\n",
    "    border: 1px  black solid !important;\n",
    "  color: black !important;\n",
    "}\n",
    "</style>"
   ]
  },
  {
   "cell_type": "code",
   "execution_count": 5,
   "metadata": {},
   "outputs": [],
   "source": [
    "# Code Starting time\n",
    "t0 = time()"
   ]
  },
  {
   "cell_type": "code",
   "execution_count": 6,
   "metadata": {},
   "outputs": [],
   "source": [
    "def performance_metrics_table(test,pred,feature):\n",
    "    '''Inputs:\n",
    "            test = actual labels of test set\n",
    "            pred = model predictions for the the test set\n",
    "            feature = feature name\n",
    "            \n",
    "            Computes macro- and micro- precision, recall and F1-score\n",
    "        Output:\n",
    "            Multi-index data frame with 3 precision measures \n",
    "    '''\n",
    "    temp_dict = {'Performance':['Precision','Recall','F1-Score']}\n",
    "    averages = ['micro','macro']\n",
    "    for average in averages:\n",
    "        p,r,f,_ = prfs(test,pred,average = average)\n",
    "        temp_dict[average]= np.round((p,r,f),4)\n",
    "    temp_df = pd.DataFrame(temp_dict)\n",
    "    temp_df = pd.melt(temp_df, id_vars=['Performance'], value_vars=averages,\n",
    "                        var_name='Metric', value_name=feature).set_index(['Metric','Performance'])\n",
    "    temp_df = temp_df.rename_axis([None,'Performance Measures'])\n",
    "    return temp_df"
   ]
  },
  {
   "cell_type": "markdown",
   "metadata": {},
   "source": [
    "# 1. Data upload"
   ]
  },
  {
   "cell_type": "code",
   "execution_count": 7,
   "metadata": {},
   "outputs": [],
   "source": [
    "class_names = ['Hate','Offensive','Neutral']\n",
    "path = \"datasets/balanced_dataset.csv\""
   ]
  },
  {
   "cell_type": "code",
   "execution_count": 8,
   "metadata": {},
   "outputs": [
    {
     "data": {
      "text/html": [
       "<div>\n",
       "<style scoped>\n",
       "    .dataframe tbody tr th:only-of-type {\n",
       "        vertical-align: middle;\n",
       "    }\n",
       "\n",
       "    .dataframe tbody tr th {\n",
       "        vertical-align: top;\n",
       "    }\n",
       "\n",
       "    .dataframe thead th {\n",
       "        text-align: right;\n",
       "    }\n",
       "</style>\n",
       "<table border=\"1\" class=\"dataframe\">\n",
       "  <thead>\n",
       "    <tr style=\"text-align: right;\">\n",
       "      <th></th>\n",
       "      <th>labels</th>\n",
       "      <th>tweet</th>\n",
       "      <th>clean_tweet</th>\n",
       "    </tr>\n",
       "  </thead>\n",
       "  <tbody>\n",
       "    <tr>\n",
       "      <th>0</th>\n",
       "      <td>0</td>\n",
       "      <td>#sikh #temple vandalised in in #calgary, #wso ...</td>\n",
       "      <td>sikh temple vandalised in in calgary wso conde...</td>\n",
       "    </tr>\n",
       "    <tr>\n",
       "      <th>1</th>\n",
       "      <td>2</td>\n",
       "      <td>@user @user @user on flipside of  , praise @us...</td>\n",
       "      <td>on flipside of praise for reminder that reales...</td>\n",
       "    </tr>\n",
       "    <tr>\n",
       "      <th>2</th>\n",
       "      <td>2</td>\n",
       "      <td>RT @KatiePavlich: Charlie Crist doesn't have a...</td>\n",
       "      <td>charlie crist doesn t have any more political ...</td>\n",
       "    </tr>\n",
       "    <tr>\n",
       "      <th>3</th>\n",
       "      <td>0</td>\n",
       "      <td>@user you might be a libtard if... #libtard  #...</td>\n",
       "      <td>you might be a libtard if libtard sjw liberal ...</td>\n",
       "    </tr>\n",
       "    <tr>\n",
       "      <th>4</th>\n",
       "      <td>0</td>\n",
       "      <td>RT @RihannaHasAids: aight game over. dykes had...</td>\n",
       "      <td>aight game over dykes had to ruin it</td>\n",
       "    </tr>\n",
       "  </tbody>\n",
       "</table>\n",
       "</div>"
      ],
      "text/plain": [
       "   labels                                              tweet  \\\n",
       "0       0  #sikh #temple vandalised in in #calgary, #wso ...   \n",
       "1       2  @user @user @user on flipside of  , praise @us...   \n",
       "2       2  RT @KatiePavlich: Charlie Crist doesn't have a...   \n",
       "3       0  @user you might be a libtard if... #libtard  #...   \n",
       "4       0  RT @RihannaHasAids: aight game over. dykes had...   \n",
       "\n",
       "                                         clean_tweet  \n",
       "0  sikh temple vandalised in in calgary wso conde...  \n",
       "1  on flipside of praise for reminder that reales...  \n",
       "2  charlie crist doesn t have any more political ...  \n",
       "3  you might be a libtard if libtard sjw liberal ...  \n",
       "4               aight game over dykes had to ruin it  "
      ]
     },
     "execution_count": 8,
     "metadata": {},
     "output_type": "execute_result"
    }
   ],
   "source": [
    "# upload the dataset\n",
    "data = pd.read_csv(path)\n",
    "# drop any rows with null (after preprocessing)\n",
    "data = data.dropna()\n",
    "# print first 5 rows of the data set\n",
    "data.head()"
   ]
  },
  {
   "cell_type": "markdown",
   "metadata": {},
   "source": [
    "# 2. Split dataset into training-validation-test sets"
   ]
  },
  {
   "cell_type": "code",
   "execution_count": 9,
   "metadata": {},
   "outputs": [
    {
     "name": "stdout",
     "output_type": "stream",
     "text": [
      "Maximum lenght (word-count) of tweets in the training set: 34\n",
      "\n",
      "==============================\n",
      "Training-Validation-Test Split\n",
      "==============================\n",
      "Size of training data: 8865\n",
      "..............................\n",
      "Size of validation data: 4367\n",
      "..............................\n",
      "Size of test data: 6518\n",
      "..............................\n"
     ]
    }
   ],
   "source": [
    "# Split the dataset into training and test sets (2:1)\n",
    "X_train, x_test, Y_train, y_test = train_test_split(data.clean_tweet, data.labels, test_size=0.33, random_state=42)\n",
    "\n",
    "# maximum word count of tweets in the training set\n",
    "max_length = np.max([len(tweet.split()) for tweet in X_train])\n",
    "\n",
    "print('Maximum lenght (word-count) of tweets in the training set: {}\\n'.format(max_length))\n",
    "\n",
    "\n",
    "# Split the trainng dataset further into training and validation sets (2:1)\n",
    "x_train, x_val, y_train, y_val = train_test_split(X_train, Y_train, test_size=0.33, random_state=42)\n",
    "\n",
    "y_train_onehot = to_categorical(y_train)\n",
    "y_val_onehot = to_categorical(y_val)\n",
    "y_test_onehot = to_categorical(y_test)\n",
    "\n",
    "# Print\n",
    "print('=='*15)\n",
    "print('Training-Validation-Test Split')\n",
    "print('=='*15)\n",
    "print('Size of training data: {}'.format(len(y_train)))\n",
    "print('..'*15)\n",
    "print('Size of validation data: {}'.format(len(y_val)))\n",
    "print('..'*15)\n",
    "print('Size of test data: {}'.format(len(y_test)))\n",
    "print('..'*15)"
   ]
  },
  {
   "cell_type": "markdown",
   "metadata": {},
   "source": [
    "# 2. Word vectorization"
   ]
  },
  {
   "cell_type": "markdown",
   "metadata": {},
   "source": [
    "## 2.1 Tokenizaition"
   ]
  },
  {
   "cell_type": "code",
   "execution_count": 10,
   "metadata": {},
   "outputs": [
    {
     "name": "stdout",
     "output_type": "stream",
     "text": [
      "Total size of training (including validation set) vocabulary: 18602 words\n"
     ]
    }
   ],
   "source": [
    "# Initializer tokenizer\n",
    "tokenizer = Tokenizer()\n",
    "tokenizer.fit_on_texts(x_train.append(x_val))\n",
    "vocab_size = len(tokenizer.word_index)+1\n",
    "print('Total size of training (including validation set) vocabulary: {} words'.format(vocab_size))"
   ]
  },
  {
   "cell_type": "markdown",
   "metadata": {},
   "source": [
    "# 2.2 Zero-padding"
   ]
  },
  {
   "cell_type": "code",
   "execution_count": 11,
   "metadata": {},
   "outputs": [],
   "source": [
    "sequence_train = tokenizer.texts_to_sequences(x_train)\n",
    "padded_train = pad_sequences(sequence_train, maxlen=max_length, padding='post') \n",
    "\n",
    "sequence_val = tokenizer.texts_to_sequences(x_val)\n",
    "padded_val = pad_sequences(sequence_val, maxlen=max_length, padding='post') \n",
    "\n",
    "sequence_test = tokenizer.texts_to_sequences(x_test)\n",
    "padded_test = pad_sequences(sequence_test, maxlen=max_length, padding='post') "
   ]
  },
  {
   "cell_type": "code",
   "execution_count": 12,
   "metadata": {},
   "outputs": [
    {
     "name": "stdout",
     "output_type": "stream",
     "text": [
      "Shape of embedding matrix is 18602 x 300\n"
     ]
    }
   ],
   "source": [
    "# Upload embedding matrix for words in the vocabulary\n",
    "embed_dim = 300\n",
    "embedding_matrix = pd.read_pickle(\"model/GloVe_matrix.pkl\").values\n",
    "print( 'Shape of embedding matrix is {} x {}'. format(embedding_matrix.shape[0],embedding_matrix.shape[1]))"
   ]
  },
  {
   "cell_type": "markdown",
   "metadata": {},
   "source": [
    "# 4. Fine tuning best fit for batch sizes"
   ]
  },
  {
   "cell_type": "markdown",
   "metadata": {},
   "source": [
    "After finalizing the # of layers and # of neurons\n",
    "\n",
    "1. Batch size:\n",
    "        -512\n",
    "        -256\n",
    "        -128\n",
    "        -64\n",
    "        -8\n"
   ]
  },
  {
   "cell_type": "code",
   "execution_count": 17,
   "metadata": {},
   "outputs": [
    {
     "name": "stdout",
     "output_type": "stream",
     "text": [
      "Batch size: 512\n",
      "Train on 8865 samples, validate on 4367 samples\n",
      "Epoch 1/30\n",
      " - 2s - loss: 0.9462 - acc: 0.5381 - val_loss: 0.7477 - val_acc: 0.7074\n",
      "Epoch 2/30\n",
      " - 2s - loss: 0.5583 - acc: 0.7972 - val_loss: 0.5969 - val_acc: 0.7639\n",
      "Epoch 3/30\n",
      " - 2s - loss: 0.3182 - acc: 0.8910 - val_loss: 0.5439 - val_acc: 0.7967\n",
      "Epoch 4/30\n",
      " - 2s - loss: 0.1623 - acc: 0.9534 - val_loss: 0.6020 - val_acc: 0.7939\n",
      "Epoch 5/30\n",
      " - 2s - loss: 0.0803 - acc: 0.9795 - val_loss: 0.6569 - val_acc: 0.7962\n",
      "Batch size: 256\n",
      "Train on 8865 samples, validate on 4367 samples\n",
      "Epoch 1/30\n",
      " - 4s - loss: 0.9551 - acc: 0.5538 - val_loss: 0.7154 - val_acc: 0.7277\n",
      "Epoch 2/30\n",
      " - 3s - loss: 0.5080 - acc: 0.8153 - val_loss: 0.5414 - val_acc: 0.7932\n",
      "Epoch 3/30\n",
      " - 3s - loss: 0.2400 - acc: 0.9199 - val_loss: 0.5564 - val_acc: 0.8063\n",
      "Epoch 4/30\n",
      " - 3s - loss: 0.1072 - acc: 0.9732 - val_loss: 0.6226 - val_acc: 0.8015\n",
      "Batch size: 128\n",
      "Train on 8865 samples, validate on 4367 samples\n",
      "Epoch 1/30\n",
      " - 6s - loss: 0.9339 - acc: 0.5331 - val_loss: 0.7580 - val_acc: 0.7099\n",
      "Epoch 2/30\n",
      " - 5s - loss: 0.5411 - acc: 0.8345 - val_loss: 0.5871 - val_acc: 0.8028\n",
      "Epoch 3/30\n",
      " - 5s - loss: 0.2175 - acc: 0.9368 - val_loss: 0.6833 - val_acc: 0.7859\n",
      "Epoch 4/30\n",
      " - 5s - loss: 0.0869 - acc: 0.9743 - val_loss: 0.7664 - val_acc: 0.7987\n",
      "Batch size: 64\n",
      "Train on 8865 samples, validate on 4367 samples\n",
      "Epoch 1/30\n",
      " - 9s - loss: 0.6928 - acc: 0.7051 - val_loss: 0.5329 - val_acc: 0.7902\n",
      "Epoch 2/30\n",
      " - 9s - loss: 0.2755 - acc: 0.9022 - val_loss: 0.5676 - val_acc: 0.7912\n",
      "Epoch 3/30\n",
      " - 9s - loss: 0.1003 - acc: 0.9663 - val_loss: 0.6697 - val_acc: 0.8063\n",
      "Batch size: 8\n",
      "Train on 8865 samples, validate on 4367 samples\n",
      "Epoch 1/30\n",
      " - 65s - loss: 0.7018 - acc: 0.6971 - val_loss: 0.4906 - val_acc: 0.8122\n",
      "Epoch 2/30\n",
      " - 64s - loss: 0.2765 - acc: 0.8975 - val_loss: 0.4792 - val_acc: 0.8168\n",
      "Epoch 3/30\n",
      " - 64s - loss: 0.0926 - acc: 0.9689 - val_loss: 0.6158 - val_acc: 0.8012\n",
      "Epoch 4/30\n",
      " - 64s - loss: 0.0409 - acc: 0.9882 - val_loss: 0.7411 - val_acc: 0.8225\n"
     ]
    }
   ],
   "source": [
    "for i, batchsize in enumerate([512,256,128,64,8]):\n",
    "    print('Batch size: {}'.format(batchsize))\n",
    "    model = Sequential()\n",
    "    model.add(Embedding(vocab_size, embed_dim, weights=[embedding_matrix], input_length=max_length, trainable=True))\n",
    "    model.add(Flatten())\n",
    "    model.add(Dense(64, activation='relu'))\n",
    "    model.add(Dense(32, activation='relu'))\n",
    "    model.add(Dense(16, activation='relu'))\n",
    "    model.add(Dense(8, activation='relu'))\n",
    "    model.add(Dense(3, activation='softmax'))\n",
    "    model.compile(optimizer='adam',loss='categorical_crossentropy',metrics=['acc'])\n",
    "\n",
    "    es = EarlyStopping(monitor='val_loss',patience=2)\n",
    "    history = model.fit(padded_train,y_train_onehot,\n",
    "                           epochs=30,\n",
    "                           batch_size=batchsize,\n",
    "                           validation_data=(padded_val, y_val_onehot),\n",
    "                           callbacks=[es],\n",
    "                           verbose=2)\n",
    "    pred = model.predict(padded_test)\n",
    "    y_pred = np.argmax(pred,axis=1)\n",
    "    if i ==0:\n",
    "        tbl = performance_metrics_table(y_test,y_pred,'Batch Size '+np.str(batchsize))\n",
    "    else:\n",
    "        tbl = tbl.join(performance_metrics_table(y_test,y_pred,'Batch Size '+np.str(batchsize)))"
   ]
  },
  {
   "cell_type": "code",
   "execution_count": 20,
   "metadata": {},
   "outputs": [
    {
     "name": "stdout",
     "output_type": "stream",
     "text": [
      "==================== Best MLP Model fits based on Batch-Size ====================\n"
     ]
    },
    {
     "data": {
      "text/html": [
       "<div>\n",
       "<style scoped>\n",
       "    .dataframe tbody tr th:only-of-type {\n",
       "        vertical-align: middle;\n",
       "    }\n",
       "\n",
       "    .dataframe tbody tr th {\n",
       "        vertical-align: top;\n",
       "    }\n",
       "\n",
       "    .dataframe thead th {\n",
       "        text-align: right;\n",
       "    }\n",
       "</style>\n",
       "<table border=\"1\" class=\"dataframe\">\n",
       "  <thead>\n",
       "    <tr style=\"text-align: right;\">\n",
       "      <th></th>\n",
       "      <th></th>\n",
       "      <th>Batch Size 512</th>\n",
       "      <th>Batch Size 256</th>\n",
       "      <th>Batch Size 128</th>\n",
       "      <th>Batch Size 64</th>\n",
       "      <th>Batch Size 8</th>\n",
       "    </tr>\n",
       "    <tr>\n",
       "      <th></th>\n",
       "      <th>Performance Measures</th>\n",
       "      <th></th>\n",
       "      <th></th>\n",
       "      <th></th>\n",
       "      <th></th>\n",
       "      <th></th>\n",
       "    </tr>\n",
       "  </thead>\n",
       "  <tbody>\n",
       "    <tr>\n",
       "      <th rowspan=\"3\" valign=\"top\">micro</th>\n",
       "      <th>Precision</th>\n",
       "      <td>0.7906</td>\n",
       "      <td>0.8015</td>\n",
       "      <td>0.7875</td>\n",
       "      <td>0.8059</td>\n",
       "      <td>0.8148</td>\n",
       "    </tr>\n",
       "    <tr>\n",
       "      <th>Recall</th>\n",
       "      <td>0.7906</td>\n",
       "      <td>0.8015</td>\n",
       "      <td>0.7875</td>\n",
       "      <td>0.8059</td>\n",
       "      <td>0.8148</td>\n",
       "    </tr>\n",
       "    <tr>\n",
       "      <th>F1-Score</th>\n",
       "      <td>0.7906</td>\n",
       "      <td>0.8015</td>\n",
       "      <td>0.7875</td>\n",
       "      <td>0.8059</td>\n",
       "      <td>0.8148</td>\n",
       "    </tr>\n",
       "    <tr>\n",
       "      <th rowspan=\"3\" valign=\"top\">macro</th>\n",
       "      <th>Precision</th>\n",
       "      <td>0.7905</td>\n",
       "      <td>0.8015</td>\n",
       "      <td>0.7895</td>\n",
       "      <td>0.8055</td>\n",
       "      <td>0.8145</td>\n",
       "    </tr>\n",
       "    <tr>\n",
       "      <th>Recall</th>\n",
       "      <td>0.7913</td>\n",
       "      <td>0.8021</td>\n",
       "      <td>0.7877</td>\n",
       "      <td>0.8064</td>\n",
       "      <td>0.8155</td>\n",
       "    </tr>\n",
       "    <tr>\n",
       "      <th>F1-Score</th>\n",
       "      <td>0.7892</td>\n",
       "      <td>0.8000</td>\n",
       "      <td>0.7884</td>\n",
       "      <td>0.8055</td>\n",
       "      <td>0.8134</td>\n",
       "    </tr>\n",
       "  </tbody>\n",
       "</table>\n",
       "</div>"
      ],
      "text/plain": [
       "                            Batch Size 512  Batch Size 256  Batch Size 128  \\\n",
       "      Performance Measures                                                   \n",
       "micro Precision                     0.7906          0.8015          0.7875   \n",
       "      Recall                        0.7906          0.8015          0.7875   \n",
       "      F1-Score                      0.7906          0.8015          0.7875   \n",
       "macro Precision                     0.7905          0.8015          0.7895   \n",
       "      Recall                        0.7913          0.8021          0.7877   \n",
       "      F1-Score                      0.7892          0.8000          0.7884   \n",
       "\n",
       "                            Batch Size 64  Batch Size 8  \n",
       "      Performance Measures                               \n",
       "micro Precision                    0.8059        0.8148  \n",
       "      Recall                       0.8059        0.8148  \n",
       "      F1-Score                     0.8059        0.8148  \n",
       "macro Precision                    0.8055        0.8145  \n",
       "      Recall                       0.8064        0.8155  \n",
       "      F1-Score                     0.8055        0.8134  "
      ]
     },
     "execution_count": 20,
     "metadata": {},
     "output_type": "execute_result"
    }
   ],
   "source": [
    "print('=='*10, 'Best MLP Model fits based on Batch-Size', '=='*10)\n",
    "tbl"
   ]
  },
  {
   "cell_type": "code",
   "execution_count": null,
   "metadata": {},
   "outputs": [],
   "source": []
  }
 ],
 "metadata": {
  "kernelspec": {
   "display_name": "Python 3",
   "language": "python",
   "name": "python3"
  },
  "language_info": {
   "codemirror_mode": {
    "name": "ipython",
    "version": 3
   },
   "file_extension": ".py",
   "mimetype": "text/x-python",
   "name": "python",
   "nbconvert_exporter": "python",
   "pygments_lexer": "ipython3",
   "version": "3.7.1"
  }
 },
 "nbformat": 4,
 "nbformat_minor": 2
}

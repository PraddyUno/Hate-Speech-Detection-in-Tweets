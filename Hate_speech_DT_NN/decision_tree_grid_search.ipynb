{
 "cells": [
  {
   "cell_type": "markdown",
   "metadata": {},
   "source": [
    "# Content\n",
    "\n",
    "**Warning: <span style=\"color:red\">high execution time (several hours) </span>**\n",
    "\n",
    "Code below runs grid search on random forest for *word uni-gram*.\n",
    "\n",
    "Best fit model for **Random Forest** and **Gradient Boosting** is saved in the *model* directory."
   ]
  },
  {
   "cell_type": "code",
   "execution_count": null,
   "metadata": {},
   "outputs": [],
   "source": [
    "# Import base libraries for mathematical operations, dataframes, time and plotting\n",
    "import numpy as np\n",
    "import pandas as pd\n",
    "from time import time\n",
    "import matplotlib.pyplot as plt\n",
    "import seaborn as sns\n",
    "font = {'family' : 'sans-serif',\n",
    "        'style' : 'normal',\n",
    "        'size'   : 15}\n",
    "plt.rc('font', **font)\n",
    "plt.rcParams['figure.figsize'] = 12, 8\n",
    "\n",
    "import warnings\n",
    "warnings.filterwarnings(\"ignore\")"
   ]
  },
  {
   "cell_type": "code",
   "execution_count": null,
   "metadata": {},
   "outputs": [],
   "source": [
    "%%HTML\n",
    "<style type=\"text/css\">\n",
    "table.dataframe td, table.dataframe th {\n",
    "    border: 1px  black solid !important;\n",
    "  color: black !important;\n",
    "}\n",
    "</style>"
   ]
  },
  {
   "cell_type": "code",
   "execution_count": null,
   "metadata": {},
   "outputs": [],
   "source": [
    "import re\n",
    "import joblib\n"
   ]
  },
  {
   "cell_type": "code",
   "execution_count": null,
   "metadata": {},
   "outputs": [],
   "source": [
    "from sklearn.model_selection import train_test_split\n",
    "from sklearn.feature_extraction.text import TfidfVectorizer\n",
    "from sklearn.metrics import precision_recall_fscore_support as prfs\n",
    "from sklearn.ensemble import RandomForestClassifier, GradientBoostingClassifier\n",
    "from sklearn.model_selection import GridSearchCV"
   ]
  },
  {
   "cell_type": "code",
   "execution_count": null,
   "metadata": {},
   "outputs": [],
   "source": [
    "# Import helper folder for plotting\n",
    "import py_plots\n",
    "from py_plots import precisionmeasures as pm"
   ]
  },
  {
   "cell_type": "code",
   "execution_count": null,
   "metadata": {},
   "outputs": [],
   "source": [
    "# Code Starting time\n",
    "t0 = time()"
   ]
  },
  {
   "cell_type": "markdown",
   "metadata": {},
   "source": [
    "## 1. Data upload"
   ]
  },
  {
   "cell_type": "code",
   "execution_count": null,
   "metadata": {},
   "outputs": [],
   "source": [
    "class_names = ['Hate','Offensive','Neutral']\n",
    "path = \"datasets/balanced_dataset.csv\""
   ]
  },
  {
   "cell_type": "code",
   "execution_count": null,
   "metadata": {},
   "outputs": [],
   "source": [
    "# upload the dataset\n",
    "data = pd.read_csv(path)\n",
    "# drop any rows with null (after preprocessing)\n",
    "data = data.dropna()\n",
    "# print first 5 rows of the data set\n",
    "data.head()"
   ]
  },
  {
   "cell_type": "code",
   "execution_count": null,
   "metadata": {},
   "outputs": [],
   "source": [
    "# Split the dataset into training and test sets (2:1)\n",
    "X_train, X_test, Y_train, Y_test = train_test_split(data.clean_tweet, data.labels, test_size=0.33, random_state=42)"
   ]
  },
  {
   "cell_type": "markdown",
   "metadata": {},
   "source": [
    "## 2. TFIDF Vectorizer"
   ]
  },
  {
   "cell_type": "code",
   "execution_count": null,
   "metadata": {},
   "outputs": [],
   "source": [
    "vectorizer = TfidfVectorizer()\n",
    "x_train = vectorizer.fit_transform(X_train)\n",
    "x_test = vectorizer.transform(X_test)"
   ]
  },
  {
   "cell_type": "markdown",
   "metadata": {},
   "source": [
    "## 3. Grid Search"
   ]
  },
  {
   "cell_type": "markdown",
   "metadata": {},
   "source": [
    "**Random Forest Grid Search Parameters**:\n",
    "1. Bootstrap\n",
    "    - <span style=\"color:blue\">True, False</span>\n",
    "2. Maximum depth of tree\n",
    "    - <span style=\"color:blue\">90, 100, 110</span>\n",
    "3. Number of trees\n",
    "    - <span style=\"color:blue\">300, 500, 800</span>\n",
    "\n",
    "**Gradient Boosting Grid Search Parameters**:\n",
    "1. Learning rate set\n",
    "    - <span style=\"color:blue\">0.1, 0.001</span>\n",
    "2. Maximum depth of tree\n",
    "    - <span style=\"color:blue\">3, 5</span>\n",
    "3. Number of trees\n",
    "    - <span style=\"color:blue\">500, 800</span>\n",
    "\n",
    "\n",
    "*With stratified, 5-fold, cross-validation sets.*"
   ]
  },
  {
   "cell_type": "code",
   "execution_count": null,
   "metadata": {},
   "outputs": [],
   "source": [
    "# Create the parameter grid based on the results of random search \n",
    "\n",
    "param_grid_rf = {'bootstrap': [True, False],\n",
    "              'max_depth': [90, 100, 110],\n",
    "              'n_estimators': [300,500,800]}\n",
    "\n",
    "param_grid_gb = {'learning_rate': [0.1,0.01],\n",
    "              'max_depth': [3,5],\n",
    "              'n_estimators': [500,800]}\n",
    "\n",
    "\n",
    "for clf, name in ((RandomForestClassifier(), \"Random Forest\"),(GradientBoostingClassifier(),'Gradient Boosting')):\n",
    "    print('=' * 80)\n",
    "    print(clf)\n",
    "    # Instantiate the grid search model\n",
    "    if name == 'Random Forest':\n",
    "        grid_result = GridSearchCV(estimator = clf, param_grid = param_grid_rf, cv = 5, verbose = 2)\n",
    "        filename = \"model/rf_bestfit_model.pkl\"\n",
    "    else:\n",
    "        grid_result = GridSearchCV(estimator = clf, param_grid = param_grid_gb, cv = 5, verbose = 2)\n",
    "        filename = \"model/gb_bestfit_model.pkl\"\n",
    "    \n",
    "    grid_result.fit(x_train,Y_train)\n",
    "    print(\"Best: %f using %s\" % (grid_result.best_score_, grid_result.best_params_))\n",
    "    means = grid_result.cv_results_['mean_test_score']\n",
    "    stds = grid_result.cv_results_['std_test_score']\n",
    "    params = grid_result.cv_results_['params']\n",
    "    for mean, stdev, param in zip(means, stds, params):\n",
    "        print(\"%f (%f) with: %r\" % (mean, stdev, param))\n",
    "    \n",
    "    joblib.dump(grid_result, filename)\n",
    "\n",
    "    # Load from file\n",
    "    model = joblib.load(filename)\n",
    "\n",
    "    # Calculate the accuracy and predictions\n",
    "    score = model.score(x_test, Y_test)\n",
    "    print(\"Test score: {0:.2f} %\".format(100 * score))\n",
    "    predict = model.predict(x_test)"
   ]
  },
  {
   "cell_type": "code",
   "execution_count": null,
   "metadata": {},
   "outputs": [],
   "source": []
  }
 ],
 "metadata": {
  "kernelspec": {
   "display_name": "Python 3",
   "language": "python",
   "name": "python3"
  },
  "language_info": {
   "codemirror_mode": {
    "name": "ipython",
    "version": 3
   },
   "file_extension": ".py",
   "mimetype": "text/x-python",
   "name": "python",
   "nbconvert_exporter": "python",
   "pygments_lexer": "ipython3",
   "version": "3.7.1"
  }
 },
 "nbformat": 4,
 "nbformat_minor": 2
}
